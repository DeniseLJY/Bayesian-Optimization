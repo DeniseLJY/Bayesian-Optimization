{
 "cells": [
  {
   "cell_type": "code",
   "execution_count": 1,
   "metadata": {},
   "outputs": [
    {
     "name": "stderr",
     "output_type": "stream",
     "text": [
      " C:\\Users\\Administrator\\Anaconda3\\lib\\site-packages\\sklearn\\linear_model\\least_angle.py:30: DeprecationWarning:`np.float` is a deprecated alias for the builtin `float`. To silence this warning, use `float` by itself. Doing this will not modify any behavior and is safe. If you specifically wanted the numpy scalar type, use `np.float64` here.\n",
      "Deprecated in NumPy 1.20; for more details and guidance: https://numpy.org/devdocs/release/1.20.0-notes.html#deprecations\n",
      " C:\\Users\\Administrator\\Anaconda3\\lib\\site-packages\\sklearn\\linear_model\\least_angle.py:167: DeprecationWarning:`np.float` is a deprecated alias for the builtin `float`. To silence this warning, use `float` by itself. Doing this will not modify any behavior and is safe. If you specifically wanted the numpy scalar type, use `np.float64` here.\n",
      "Deprecated in NumPy 1.20; for more details and guidance: https://numpy.org/devdocs/release/1.20.0-notes.html#deprecations\n",
      " C:\\Users\\Administrator\\Anaconda3\\lib\\site-packages\\sklearn\\linear_model\\least_angle.py:284: DeprecationWarning:`np.float` is a deprecated alias for the builtin `float`. To silence this warning, use `float` by itself. Doing this will not modify any behavior and is safe. If you specifically wanted the numpy scalar type, use `np.float64` here.\n",
      "Deprecated in NumPy 1.20; for more details and guidance: https://numpy.org/devdocs/release/1.20.0-notes.html#deprecations\n",
      " C:\\Users\\Administrator\\Anaconda3\\lib\\site-packages\\sklearn\\linear_model\\least_angle.py:862: DeprecationWarning:`np.float` is a deprecated alias for the builtin `float`. To silence this warning, use `float` by itself. Doing this will not modify any behavior and is safe. If you specifically wanted the numpy scalar type, use `np.float64` here.\n",
      "Deprecated in NumPy 1.20; for more details and guidance: https://numpy.org/devdocs/release/1.20.0-notes.html#deprecations\n",
      " C:\\Users\\Administrator\\Anaconda3\\lib\\site-packages\\sklearn\\linear_model\\least_angle.py:1101: DeprecationWarning:`np.float` is a deprecated alias for the builtin `float`. To silence this warning, use `float` by itself. Doing this will not modify any behavior and is safe. If you specifically wanted the numpy scalar type, use `np.float64` here.\n",
      "Deprecated in NumPy 1.20; for more details and guidance: https://numpy.org/devdocs/release/1.20.0-notes.html#deprecations\n",
      " C:\\Users\\Administrator\\Anaconda3\\lib\\site-packages\\sklearn\\linear_model\\least_angle.py:1127: DeprecationWarning:`np.float` is a deprecated alias for the builtin `float`. To silence this warning, use `float` by itself. Doing this will not modify any behavior and is safe. If you specifically wanted the numpy scalar type, use `np.float64` here.\n",
      "Deprecated in NumPy 1.20; for more details and guidance: https://numpy.org/devdocs/release/1.20.0-notes.html#deprecations\n",
      " C:\\Users\\Administrator\\Anaconda3\\lib\\site-packages\\sklearn\\linear_model\\least_angle.py:1362: DeprecationWarning:`np.float` is a deprecated alias for the builtin `float`. To silence this warning, use `float` by itself. Doing this will not modify any behavior and is safe. If you specifically wanted the numpy scalar type, use `np.float64` here.\n",
      "Deprecated in NumPy 1.20; for more details and guidance: https://numpy.org/devdocs/release/1.20.0-notes.html#deprecations\n",
      " C:\\Users\\Administrator\\Anaconda3\\lib\\site-packages\\sklearn\\linear_model\\least_angle.py:1602: DeprecationWarning:`np.float` is a deprecated alias for the builtin `float`. To silence this warning, use `float` by itself. Doing this will not modify any behavior and is safe. If you specifically wanted the numpy scalar type, use `np.float64` here.\n",
      "Deprecated in NumPy 1.20; for more details and guidance: https://numpy.org/devdocs/release/1.20.0-notes.html#deprecations\n",
      " C:\\Users\\Administrator\\Anaconda3\\lib\\site-packages\\sklearn\\linear_model\\least_angle.py:1738: DeprecationWarning:`np.float` is a deprecated alias for the builtin `float`. To silence this warning, use `float` by itself. Doing this will not modify any behavior and is safe. If you specifically wanted the numpy scalar type, use `np.float64` here.\n",
      "Deprecated in NumPy 1.20; for more details and guidance: https://numpy.org/devdocs/release/1.20.0-notes.html#deprecations\n",
      " C:\\Users\\Administrator\\Anaconda3\\lib\\site-packages\\sklearn\\decomposition\\online_lda.py:29: DeprecationWarning:`np.float` is a deprecated alias for the builtin `float`. To silence this warning, use `float` by itself. Doing this will not modify any behavior and is safe. If you specifically wanted the numpy scalar type, use `np.float64` here.\n",
      "Deprecated in NumPy 1.20; for more details and guidance: https://numpy.org/devdocs/release/1.20.0-notes.html#deprecations\n",
      " C:\\Users\\Administrator\\Anaconda3\\lib\\site-packages\\sklearn\\ensemble\\gradient_boosting.py:32: DeprecationWarning:`np.bool` is a deprecated alias for the builtin `bool`. To silence this warning, use `bool` by itself. Doing this will not modify any behavior and is safe. If you specifically wanted the numpy scalar type, use `np.bool_` here.\n",
      "Deprecated in NumPy 1.20; for more details and guidance: https://numpy.org/devdocs/release/1.20.0-notes.html#deprecations\n",
      " C:\\Users\\Administrator\\Anaconda3\\lib\\site-packages\\sklearn\\ensemble\\gradient_boosting.py:32: DeprecationWarning:`np.bool` is a deprecated alias for the builtin `bool`. To silence this warning, use `bool` by itself. Doing this will not modify any behavior and is safe. If you specifically wanted the numpy scalar type, use `np.bool_` here.\n",
      "Deprecated in NumPy 1.20; for more details and guidance: https://numpy.org/devdocs/release/1.20.0-notes.html#deprecations\n"
     ]
    },
    {
     "name": "stdout",
     "output_type": "stream",
     "text": [
      "Best so far in the initial data 1.643029586787631\n"
     ]
    },
    {
     "name": "stderr",
     "output_type": "stream",
     "text": [
      "reconstraining parameters GP_regression.rbf.lengthscale\n",
      "reconstraining parameters GP_regression.rbf.variance\n",
      "reconstraining parameters GP_regression.Gaussian_noise.variance\n"
     ]
    },
    {
     "name": "stdout",
     "output_type": "stream",
     "text": [
      "PES, 0th job, 0th iteration\n"
     ]
    },
    {
     "name": "stderr",
     "output_type": "stream",
     "text": [
      "reconstraining parameters GP_regression.rbf.lengthscale\n",
      "reconstraining parameters GP_regression.rbf.variance\n",
      "reconstraining parameters GP_regression.Gaussian_noise.variance\n"
     ]
    },
    {
     "name": "stdout",
     "output_type": "stream",
     "text": [
      "PES takes 132.28345704078674 seconds\n",
      "PES suggests: \n",
      "[-3.05511487 10.66445573]\n",
      "Retraining the model takes 217.27282667160034 seconds\n",
      "The recommended point [-2.63364823 11.25119612]\n",
      "Recommending the point takes 2.954068899154663 seconds\n",
      "Best so far 1.643029586787631\n",
      "PES, 0th job, 1th iteration\n"
     ]
    },
    {
     "name": "stderr",
     "output_type": "stream",
     "text": [
      "reconstraining parameters GP_regression.rbf.lengthscale\n",
      "reconstraining parameters GP_regression.rbf.variance\n",
      "reconstraining parameters GP_regression.Gaussian_noise.variance\n"
     ]
    },
    {
     "name": "stdout",
     "output_type": "stream",
     "text": [
      "PES takes 139.53298568725586 seconds\n",
      "PES suggests: \n",
      "[-1.95220443 10.70247155]\n",
      "Retraining the model takes 209.23262763023376 seconds\n",
      "The recommended point [-2.63364823 11.25119612]\n",
      "Recommending the point takes 3.359673023223877 seconds\n",
      "Best so far 1.643029586787631\n",
      "PES, 0th job, 2th iteration\n"
     ]
    },
    {
     "name": "stderr",
     "output_type": "stream",
     "text": [
      "reconstraining parameters GP_regression.rbf.lengthscale\n",
      "reconstraining parameters GP_regression.rbf.variance\n",
      "reconstraining parameters GP_regression.Gaussian_noise.variance\n"
     ]
    },
    {
     "name": "stdout",
     "output_type": "stream",
     "text": [
      "PES takes 153.5865170955658 seconds\n",
      "PES suggests: \n",
      "[-3.67917888 13.84871843]\n",
      "Retraining the model takes 212.53231120109558 seconds\n",
      "The recommended point [-2.63364823 11.25119612]\n",
      "Recommending the point takes 4.704389572143555 seconds\n",
      "Best so far 1.643029586787631\n",
      "PES, 0th job, 3th iteration\n"
     ]
    },
    {
     "name": "stderr",
     "output_type": "stream",
     "text": [
      "reconstraining parameters GP_regression.rbf.lengthscale\n",
      "reconstraining parameters GP_regression.rbf.variance\n",
      "reconstraining parameters GP_regression.Gaussian_noise.variance\n"
     ]
    },
    {
     "name": "stdout",
     "output_type": "stream",
     "text": [
      "PES takes 196.557147026062 seconds\n",
      "PES suggests: \n",
      "[-1.93053418 14.19160235]\n",
      "Retraining the model takes 191.55011773109436 seconds\n",
      "The recommended point [-2.63364823 11.25119612]\n",
      "Recommending the point takes 5.517858505249023 seconds\n",
      "Best so far 1.643029586787631\n",
      "PES, 0th job, 4th iteration\n"
     ]
    },
    {
     "name": "stderr",
     "output_type": "stream",
     "text": [
      "reconstraining parameters GP_regression.rbf.lengthscale\n",
      "reconstraining parameters GP_regression.rbf.variance\n",
      "reconstraining parameters GP_regression.Gaussian_noise.variance\n"
     ]
    },
    {
     "name": "stdout",
     "output_type": "stream",
     "text": [
      "PES takes 179.39910793304443 seconds\n",
      "PES suggests: \n",
      "[-2.26464789 12.71456386]\n",
      "Retraining the model takes 198.3576636314392 seconds\n",
      "The recommended point [-2.63364823 11.25119612]\n",
      "Recommending the point takes 6.085398197174072 seconds\n",
      "Best so far 1.643029586787631\n",
      "PES, 0th job, 5th iteration\n"
     ]
    },
    {
     "name": "stderr",
     "output_type": "stream",
     "text": [
      "reconstraining parameters GP_regression.rbf.lengthscale\n",
      "reconstraining parameters GP_regression.rbf.variance\n",
      "reconstraining parameters GP_regression.Gaussian_noise.variance\n"
     ]
    },
    {
     "name": "stdout",
     "output_type": "stream",
     "text": [
      "PES takes 176.03716373443604 seconds\n",
      "PES suggests: \n",
      "[-0.03166144 14.79087066]\n",
      "Retraining the model takes 182.3072853088379 seconds\n",
      "The recommended point [-2.63364823 11.25119612]\n",
      "Recommending the point takes 5.578641414642334 seconds\n",
      "Best so far 1.643029586787631\n",
      "PES, 0th job, 6th iteration\n"
     ]
    },
    {
     "name": "stderr",
     "output_type": "stream",
     "text": [
      "reconstraining parameters GP_regression.rbf.lengthscale\n",
      "reconstraining parameters GP_regression.rbf.variance\n",
      "reconstraining parameters GP_regression.Gaussian_noise.variance\n"
     ]
    },
    {
     "name": "stdout",
     "output_type": "stream",
     "text": [
      "PES takes 164.90210676193237 seconds\n",
      "PES suggests: \n",
      "[-0.11034103 12.39761014]\n",
      "Retraining the model takes 185.8324339389801 seconds\n",
      "The recommended point [-2.63364823 11.25119612]\n",
      "Recommending the point takes 6.413128137588501 seconds\n",
      "Best so far 1.643029586787631\n",
      "PES, 0th job, 7th iteration\n"
     ]
    },
    {
     "name": "stderr",
     "output_type": "stream",
     "text": [
      "reconstraining parameters GP_regression.rbf.lengthscale\n",
      "reconstraining parameters GP_regression.rbf.variance\n",
      "reconstraining parameters GP_regression.Gaussian_noise.variance\n"
     ]
    },
    {
     "name": "stdout",
     "output_type": "stream",
     "text": [
      "PES takes 172.30482053756714 seconds\n",
      "PES suggests: \n",
      "[-4.34257    10.84311058]\n",
      "Retraining the model takes 193.80490803718567 seconds\n",
      "The recommended point [-2.63364823 11.25119612]\n",
      "Recommending the point takes 8.559223651885986 seconds\n",
      "Best so far 1.643029586787631\n",
      "PES, 0th job, 8th iteration\n"
     ]
    },
    {
     "name": "stderr",
     "output_type": "stream",
     "text": [
      "reconstraining parameters GP_regression.rbf.lengthscale\n",
      "reconstraining parameters GP_regression.rbf.variance\n",
      "reconstraining parameters GP_regression.Gaussian_noise.variance\n"
     ]
    },
    {
     "name": "stdout",
     "output_type": "stream",
     "text": [
      "PES takes 191.1419243812561 seconds\n",
      "PES suggests: \n",
      "[-0.7172187 13.9833399]\n",
      "Retraining the model takes 190.4713578224182 seconds\n",
      "The recommended point [-2.63364823 11.25119612]\n",
      "Recommending the point takes 9.005531549453735 seconds\n",
      "Best so far 1.643029586787631\n",
      "PES, 0th job, 9th iteration\n"
     ]
    },
    {
     "name": "stderr",
     "output_type": "stream",
     "text": [
      "reconstraining parameters GP_regression.rbf.lengthscale\n",
      "reconstraining parameters GP_regression.rbf.variance\n",
      "reconstraining parameters GP_regression.Gaussian_noise.variance\n"
     ]
    },
    {
     "name": "stdout",
     "output_type": "stream",
     "text": [
      "PES takes 187.44974207878113 seconds\n",
      "PES suggests: \n",
      "[-0.59488544 14.54625359]\n",
      "Retraining the model takes 190.32383155822754 seconds\n",
      "The recommended point [-2.63364823 11.25119612]\n",
      "Recommending the point takes 9.026077508926392 seconds\n",
      "Best so far 1.643029586787631\n",
      "PES, 0th job, 10th iteration\n"
     ]
    },
    {
     "name": "stderr",
     "output_type": "stream",
     "text": [
      "reconstraining parameters GP_regression.rbf.lengthscale\n",
      "reconstraining parameters GP_regression.rbf.variance\n",
      "reconstraining parameters GP_regression.Gaussian_noise.variance\n"
     ]
    },
    {
     "name": "stdout",
     "output_type": "stream",
     "text": [
      "PES takes 188.586683511734 seconds\n",
      "PES suggests: \n",
      "[-4.65534024 12.4542547 ]\n",
      "Retraining the model takes 192.84689092636108 seconds\n",
      "The recommended point [-2.63364823 11.25119612]\n",
      "Recommending the point takes 8.525920391082764 seconds\n",
      "Best so far 1.643029586787631\n",
      "PES, 0th job, 11th iteration\n"
     ]
    },
    {
     "name": "stderr",
     "output_type": "stream",
     "text": [
      "reconstraining parameters GP_regression.rbf.lengthscale\n",
      "reconstraining parameters GP_regression.rbf.variance\n",
      "reconstraining parameters GP_regression.Gaussian_noise.variance\n"
     ]
    },
    {
     "name": "stdout",
     "output_type": "stream",
     "text": [
      "PES takes 189.3171374797821 seconds\n",
      "PES suggests: \n",
      "[-0.91960691 13.25466279]\n",
      "Retraining the model takes 189.55435419082642 seconds\n",
      "The recommended point [-2.63364823 11.25119612]\n",
      "Recommending the point takes 9.20916485786438 seconds\n",
      "Best so far 1.643029586787631\n",
      "PES, 0th job, 12th iteration\n"
     ]
    },
    {
     "name": "stderr",
     "output_type": "stream",
     "text": [
      "reconstraining parameters GP_regression.rbf.lengthscale\n",
      "reconstraining parameters GP_regression.rbf.variance\n",
      "reconstraining parameters GP_regression.Gaussian_noise.variance\n"
     ]
    },
    {
     "name": "stdout",
     "output_type": "stream",
     "text": [
      "PES takes 189.39643621444702 seconds\n",
      "PES suggests: \n",
      "[-1.38983882 14.92154001]\n",
      "Retraining the model takes 187.88654160499573 seconds\n",
      "The recommended point [-2.63364823 11.25119612]\n",
      "Recommending the point takes 12.133260250091553 seconds\n",
      "Best so far 1.643029586787631\n",
      "PES, 0th job, 13th iteration\n"
     ]
    },
    {
     "name": "stderr",
     "output_type": "stream",
     "text": [
      "reconstraining parameters GP_regression.rbf.lengthscale\n",
      "reconstraining parameters GP_regression.rbf.variance\n",
      "reconstraining parameters GP_regression.Gaussian_noise.variance\n"
     ]
    },
    {
     "name": "stdout",
     "output_type": "stream",
     "text": [
      "PES takes 189.30275011062622 seconds\n",
      "PES suggests: \n",
      "[-0.38166774 10.65172385]\n",
      "Retraining the model takes 179.69165706634521 seconds\n",
      "The recommended point [-2.63364823 11.25119612]\n",
      "Recommending the point takes 20.485293865203857 seconds\n",
      "Best so far 1.643029586787631\n",
      "PES, 0th job, 14th iteration\n"
     ]
    },
    {
     "name": "stderr",
     "output_type": "stream",
     "text": [
      "reconstraining parameters GP_regression.rbf.lengthscale\n",
      "reconstraining parameters GP_regression.rbf.variance\n",
      "reconstraining parameters GP_regression.Gaussian_noise.variance\n"
     ]
    },
    {
     "name": "stdout",
     "output_type": "stream",
     "text": [
      "PES takes 188.97017359733582 seconds\n",
      "PES suggests: \n",
      "[-3.87753245 11.15532189]\n",
      "Retraining the model takes 169.22192239761353 seconds\n",
      "The recommended point [-2.63364823 11.25119612]\n",
      "Recommending the point takes 23.507415771484375 seconds\n",
      "Best so far 1.643029586787631\n",
      "PES, 0th job, 15th iteration\n"
     ]
    },
    {
     "name": "stderr",
     "output_type": "stream",
     "text": [
      "reconstraining parameters GP_regression.rbf.lengthscale\n",
      "reconstraining parameters GP_regression.rbf.variance\n",
      "reconstraining parameters GP_regression.Gaussian_noise.variance\n"
     ]
    },
    {
     "name": "stdout",
     "output_type": "stream",
     "text": [
      "PES takes 194.50902843475342 seconds\n",
      "PES suggests: \n",
      "[-0.58459415 12.19696881]\n",
      "Retraining the model takes 162.02250242233276 seconds\n",
      "The recommended point [-2.63364823 11.25119612]\n",
      "Recommending the point takes 24.373148441314697 seconds\n",
      "Best so far 1.643029586787631\n",
      "PES, 0th job, 16th iteration\n"
     ]
    },
    {
     "name": "stderr",
     "output_type": "stream",
     "text": [
      "reconstraining parameters GP_regression.rbf.lengthscale\n",
      "reconstraining parameters GP_regression.rbf.variance\n",
      "reconstraining parameters GP_regression.Gaussian_noise.variance\n"
     ]
    },
    {
     "name": "stdout",
     "output_type": "stream",
     "text": [
      "PES takes 205.031014919281 seconds\n",
      "PES suggests: \n",
      "[-1.74299116 14.05350718]\n",
      "Retraining the model takes 154.07419061660767 seconds\n",
      "The recommended point [-2.63364823 11.25119612]\n",
      "Recommending the point takes 25.669824838638306 seconds\n",
      "Best so far 1.643029586787631\n",
      "PES, 0th job, 17th iteration\n"
     ]
    },
    {
     "name": "stderr",
     "output_type": "stream",
     "text": [
      "reconstraining parameters GP_regression.rbf.lengthscale\n",
      "reconstraining parameters GP_regression.rbf.variance\n",
      "reconstraining parameters GP_regression.Gaussian_noise.variance\n"
     ]
    },
    {
     "name": "stdout",
     "output_type": "stream",
     "text": [
      "PES takes 206.68013906478882 seconds\n",
      "PES suggests: \n",
      "[-4.00499423 11.11197561]\n",
      "Retraining the model takes 151.61574339866638 seconds\n",
      "The recommended point [-2.63364823 11.25119612]\n",
      "Recommending the point takes 26.53569269180298 seconds\n",
      "Best so far 1.643029586787631\n",
      "PES, 0th job, 18th iteration\n"
     ]
    },
    {
     "name": "stderr",
     "output_type": "stream",
     "text": [
      "reconstraining parameters GP_regression.rbf.lengthscale\n",
      "reconstraining parameters GP_regression.rbf.variance\n",
      "reconstraining parameters GP_regression.Gaussian_noise.variance\n"
     ]
    },
    {
     "name": "stdout",
     "output_type": "stream",
     "text": [
      "PES takes 209.62474036216736 seconds\n",
      "PES suggests: \n",
      "[-1.70551779 14.44413852]\n",
      "Retraining the model takes 148.55704593658447 seconds\n",
      "The recommended point [-2.63364823 11.25119612]\n",
      "Recommending the point takes 27.23659062385559 seconds\n",
      "Best so far 1.643029586787631\n",
      "PES, 0th job, 19th iteration\n"
     ]
    },
    {
     "name": "stderr",
     "output_type": "stream",
     "text": [
      "reconstraining parameters GP_regression.rbf.lengthscale\n",
      "reconstraining parameters GP_regression.rbf.variance\n",
      "reconstraining parameters GP_regression.Gaussian_noise.variance\n"
     ]
    },
    {
     "name": "stdout",
     "output_type": "stream",
     "text": [
      "PES takes 210.26245427131653 seconds\n",
      "PES suggests: \n",
      "[-2.16891828 13.69854117]\n",
      "Retraining the model takes 147.59508442878723 seconds\n",
      "The recommended point [-2.63364823 11.25119612]\n",
      "Recommending the point takes 29.5066876411438 seconds\n",
      "Best so far 1.643029586787631\n",
      "PES, 0th job, 20th iteration\n"
     ]
    },
    {
     "name": "stderr",
     "output_type": "stream",
     "text": [
      "reconstraining parameters GP_regression.rbf.lengthscale\n",
      "reconstraining parameters GP_regression.rbf.variance\n",
      "reconstraining parameters GP_regression.Gaussian_noise.variance\n"
     ]
    },
    {
     "name": "stdout",
     "output_type": "stream",
     "text": [
      "PES takes 210.49872255325317 seconds\n",
      "PES suggests: \n",
      "[-3.07386665 12.58330389]\n",
      "Retraining the model takes 148.26200222969055 seconds\n",
      "The recommended point [-3.07386665 12.58330389]\n",
      "Recommending the point takes 30.23866295814514 seconds\n",
      "Best so far 0.6604625568356064\n",
      "PES, 0th job, 21th iteration\n"
     ]
    },
    {
     "name": "stderr",
     "output_type": "stream",
     "text": [
      "reconstraining parameters GP_regression.rbf.lengthscale\n",
      "reconstraining parameters GP_regression.rbf.variance\n",
      "reconstraining parameters GP_regression.Gaussian_noise.variance\n"
     ]
    },
    {
     "name": "stdout",
     "output_type": "stream",
     "text": [
      "PES takes 209.42071890830994 seconds\n",
      "PES suggests: \n",
      "[-0.286781   11.11705479]\n",
      "Retraining the model takes 150.89628410339355 seconds\n",
      "The recommended point [-3.07386665 12.58330389]\n",
      "Recommending the point takes 31.71865200996399 seconds\n",
      "Best so far 0.6604625568356064\n",
      "PES, 0th job, 22th iteration\n"
     ]
    },
    {
     "name": "stderr",
     "output_type": "stream",
     "text": [
      "reconstraining parameters GP_regression.rbf.lengthscale\n",
      "reconstraining parameters GP_regression.rbf.variance\n",
      "reconstraining parameters GP_regression.Gaussian_noise.variance\n"
     ]
    },
    {
     "name": "stdout",
     "output_type": "stream",
     "text": [
      "PES takes 208.31056690216064 seconds\n",
      "PES suggests: \n",
      "[-0.95886328 10.23419687]\n",
      "Retraining the model takes 154.09986877441406 seconds\n",
      "The recommended point [-3.07386665 12.58330389]\n",
      "Recommending the point takes 33.21609115600586 seconds\n",
      "Best so far 0.6604625568356064\n",
      "PES, 0th job, 23th iteration\n"
     ]
    },
    {
     "name": "stderr",
     "output_type": "stream",
     "text": [
      "reconstraining parameters GP_regression.rbf.lengthscale\n",
      "reconstraining parameters GP_regression.rbf.variance\n",
      "reconstraining parameters GP_regression.Gaussian_noise.variance\n"
     ]
    },
    {
     "name": "stdout",
     "output_type": "stream",
     "text": [
      "PES takes 206.01188588142395 seconds\n",
      "PES suggests: \n",
      "[-2.29812501 12.2314928 ]\n",
      "Retraining the model takes 156.45343589782715 seconds\n",
      "The recommended point [-3.07386665 12.58330389]\n",
      "Recommending the point takes 32.73971915245056 seconds\n",
      "Best so far 0.6604625568356064\n",
      "PES, 0th job, 24th iteration\n"
     ]
    },
    {
     "name": "stderr",
     "output_type": "stream",
     "text": [
      "reconstraining parameters GP_regression.rbf.lengthscale\n",
      "reconstraining parameters GP_regression.rbf.variance\n",
      "reconstraining parameters GP_regression.Gaussian_noise.variance\n"
     ]
    },
    {
     "name": "stdout",
     "output_type": "stream",
     "text": [
      "PES takes 201.80460929870605 seconds\n",
      "PES suggests: \n",
      "[-4.62307658 11.56030662]\n",
      "Retraining the model takes 164.06593680381775 seconds\n",
      "The recommended point [-3.07386665 12.58330389]\n",
      "Recommending the point takes 30.245657920837402 seconds\n",
      "Best so far 0.6604625568356064\n",
      "PES, 0th job, 25th iteration\n"
     ]
    },
    {
     "name": "stderr",
     "output_type": "stream",
     "text": [
      "reconstraining parameters GP_regression.rbf.lengthscale\n",
      "reconstraining parameters GP_regression.rbf.variance\n",
      "reconstraining parameters GP_regression.Gaussian_noise.variance\n"
     ]
    },
    {
     "name": "stdout",
     "output_type": "stream",
     "text": [
      "PES takes 199.16648840904236 seconds\n",
      "PES suggests: \n",
      "[-1.68816966 12.75293164]\n",
      "Retraining the model takes 174.2157702445984 seconds\n",
      "The recommended point [-3.07386665 12.58330389]\n",
      "Recommending the point takes 29.848029136657715 seconds\n",
      "Best so far 0.6604625568356064\n",
      "PES, 0th job, 26th iteration\n"
     ]
    },
    {
     "name": "stderr",
     "output_type": "stream",
     "text": [
      "reconstraining parameters GP_regression.rbf.lengthscale\n",
      "reconstraining parameters GP_regression.rbf.variance\n",
      "reconstraining parameters GP_regression.Gaussian_noise.variance\n"
     ]
    },
    {
     "name": "stdout",
     "output_type": "stream",
     "text": [
      "PES takes 205.49341011047363 seconds\n",
      "PES suggests: \n",
      "[-1.02501676 14.83474649]\n",
      "Retraining the model takes 185.23619866371155 seconds\n",
      "The recommended point [-3.07386665 12.58330389]\n",
      "Recommending the point takes 31.006847143173218 seconds\n",
      "Best so far 0.6604625568356064\n",
      "PES, 0th job, 27th iteration\n"
     ]
    },
    {
     "name": "stderr",
     "output_type": "stream",
     "text": [
      "reconstraining parameters GP_regression.rbf.lengthscale\n",
      "reconstraining parameters GP_regression.rbf.variance\n",
      "reconstraining parameters GP_regression.Gaussian_noise.variance\n"
     ]
    },
    {
     "name": "stdout",
     "output_type": "stream",
     "text": [
      "PES takes 197.93506860733032 seconds\n",
      "PES suggests: \n",
      "[-4.12666483 10.07144961]\n",
      "Retraining the model takes 189.02755212783813 seconds\n",
      "The recommended point [-3.07386665 12.58330389]\n",
      "Recommending the point takes 30.332820653915405 seconds\n",
      "Best so far 0.6604625568356064\n",
      "PES, 0th job, 28th iteration\n"
     ]
    },
    {
     "name": "stderr",
     "output_type": "stream",
     "text": [
      "reconstraining parameters GP_regression.rbf.lengthscale\n",
      "reconstraining parameters GP_regression.rbf.variance\n",
      "reconstraining parameters GP_regression.Gaussian_noise.variance\n"
     ]
    },
    {
     "name": "stdout",
     "output_type": "stream",
     "text": [
      "PES takes 183.87555766105652 seconds\n",
      "PES suggests: \n",
      "[-4.73406631 11.86129802]\n",
      "Retraining the model takes 193.82425832748413 seconds\n",
      "The recommended point [-3.07386665 12.58330389]\n",
      "Recommending the point takes 30.171342849731445 seconds\n",
      "Best so far 0.6604625568356064\n",
      "PES, 0th job, 29th iteration\n"
     ]
    },
    {
     "name": "stderr",
     "output_type": "stream",
     "text": [
      "reconstraining parameters GP_regression.rbf.lengthscale\n",
      "reconstraining parameters GP_regression.rbf.variance\n",
      "reconstraining parameters GP_regression.Gaussian_noise.variance\n"
     ]
    },
    {
     "name": "stdout",
     "output_type": "stream",
     "text": [
      "PES takes 186.06563591957092 seconds\n",
      "PES suggests: \n",
      "[-2.4913091  12.37494478]\n",
      "Retraining the model takes 191.13523125648499 seconds\n",
      "The recommended point [-3.07386665 12.58330389]\n",
      "Recommending the point takes 29.638648509979248 seconds\n",
      "Best so far 0.6604625568356064\n",
      "PES, 0th job, 30th iteration\n"
     ]
    },
    {
     "name": "stderr",
     "output_type": "stream",
     "text": [
      "reconstraining parameters GP_regression.rbf.lengthscale\n",
      "reconstraining parameters GP_regression.rbf.variance\n",
      "reconstraining parameters GP_regression.Gaussian_noise.variance\n"
     ]
    },
    {
     "name": "stdout",
     "output_type": "stream",
     "text": [
      "PES takes 186.9744577407837 seconds\n",
      "PES suggests: \n",
      "[-3.46103169 13.3154115 ]\n",
      "Retraining the model takes 191.41401195526123 seconds\n",
      "The recommended point [-3.07386665 12.58330389]\n",
      "Recommending the point takes 30.85196590423584 seconds\n",
      "Best so far 0.6604625568356064\n",
      "PES, 0th job, 31th iteration\n"
     ]
    },
    {
     "name": "stderr",
     "output_type": "stream",
     "text": [
      "reconstraining parameters GP_regression.rbf.lengthscale\n",
      "reconstraining parameters GP_regression.rbf.variance\n",
      "reconstraining parameters GP_regression.Gaussian_noise.variance\n"
     ]
    },
    {
     "name": "stdout",
     "output_type": "stream",
     "text": [
      "PES takes 186.6001386642456 seconds\n",
      "PES suggests: \n",
      "[-1.53573553 13.12230308]\n",
      "Retraining the model takes 191.82563996315002 seconds\n",
      "The recommended point [-3.07386665 12.58330389]\n",
      "Recommending the point takes 30.659207582473755 seconds\n",
      "Best so far 0.6604625568356064\n",
      "PES, 0th job, 32th iteration\n"
     ]
    },
    {
     "name": "stderr",
     "output_type": "stream",
     "text": [
      "reconstraining parameters GP_regression.rbf.lengthscale\n",
      "reconstraining parameters GP_regression.rbf.variance\n",
      "reconstraining parameters GP_regression.Gaussian_noise.variance\n"
     ]
    },
    {
     "name": "stdout",
     "output_type": "stream",
     "text": [
      "PES takes 187.58585953712463 seconds\n",
      "PES suggests: \n",
      "[-2.38533829 13.50160246]\n",
      "Retraining the model takes 192.17467761039734 seconds\n",
      "The recommended point [-3.07386665 12.58330389]\n",
      "Recommending the point takes 32.66782259941101 seconds\n",
      "Best so far 0.6604625568356064\n",
      "PES, 0th job, 33th iteration\n"
     ]
    },
    {
     "name": "stderr",
     "output_type": "stream",
     "text": [
      "reconstraining parameters GP_regression.rbf.lengthscale\n",
      "reconstraining parameters GP_regression.rbf.variance\n",
      "reconstraining parameters GP_regression.Gaussian_noise.variance\n"
     ]
    },
    {
     "name": "stdout",
     "output_type": "stream",
     "text": [
      "PES takes 186.01916551589966 seconds\n",
      "PES suggests: \n",
      "[-4.73976309 11.08417821]\n",
      "Retraining the model takes 193.03394508361816 seconds\n",
      "The recommended point [-3.07386665 12.58330389]\n",
      "Recommending the point takes 33.48675608634949 seconds\n",
      "Best so far 0.6604625568356064\n",
      "PES, 0th job, 34th iteration\n"
     ]
    },
    {
     "name": "stderr",
     "output_type": "stream",
     "text": [
      "reconstraining parameters GP_regression.rbf.lengthscale\n",
      "reconstraining parameters GP_regression.rbf.variance\n",
      "reconstraining parameters GP_regression.Gaussian_noise.variance\n"
     ]
    },
    {
     "name": "stdout",
     "output_type": "stream",
     "text": [
      "PES takes 186.12334418296814 seconds\n",
      "PES suggests: \n",
      "[-1.10585229 12.7121037 ]\n",
      "Retraining the model takes 190.2926709651947 seconds\n",
      "The recommended point [-3.07386665 12.58330389]\n",
      "Recommending the point takes 37.74323272705078 seconds\n",
      "Best so far 0.6604625568356064\n",
      "PES, 0th job, 35th iteration\n"
     ]
    },
    {
     "name": "stderr",
     "output_type": "stream",
     "text": [
      "reconstraining parameters GP_regression.rbf.lengthscale\n",
      "reconstraining parameters GP_regression.rbf.variance\n",
      "reconstraining parameters GP_regression.Gaussian_noise.variance\n"
     ]
    },
    {
     "name": "stdout",
     "output_type": "stream",
     "text": [
      "PES takes 187.51088285446167 seconds\n",
      "PES suggests: \n",
      "[-2.58177763 11.68981598]\n",
      "Retraining the model takes 179.38194727897644 seconds\n",
      "The recommended point [-3.07386665 12.58330389]\n",
      "Recommending the point takes 48.12598276138306 seconds\n",
      "Best so far 0.6604625568356064\n",
      "PES, 0th job, 36th iteration\n"
     ]
    },
    {
     "name": "stderr",
     "output_type": "stream",
     "text": [
      "reconstraining parameters GP_regression.rbf.lengthscale\n",
      "reconstraining parameters GP_regression.rbf.variance\n",
      "reconstraining parameters GP_regression.Gaussian_noise.variance\n"
     ]
    },
    {
     "name": "stdout",
     "output_type": "stream",
     "text": [
      "PES takes 190.76345014572144 seconds\n",
      "PES suggests: \n",
      "[-4.64849677 13.83506884]\n",
      "Retraining the model takes 171.74854588508606 seconds\n",
      "The recommended point [-3.07386665 12.58330389]\n",
      "Recommending the point takes 61.54518795013428 seconds\n",
      "Best so far 0.6604625568356064\n",
      "PES, 0th job, 37th iteration\n"
     ]
    },
    {
     "name": "stderr",
     "output_type": "stream",
     "text": [
      "reconstraining parameters GP_regression.rbf.lengthscale\n",
      "reconstraining parameters GP_regression.rbf.variance\n",
      "reconstraining parameters GP_regression.Gaussian_noise.variance\n"
     ]
    },
    {
     "name": "stdout",
     "output_type": "stream",
     "text": [
      "PES takes 183.49740386009216 seconds\n",
      "PES suggests: \n",
      "[-3.24723563 10.74994571]\n",
      "Retraining the model takes 164.3651201725006 seconds\n",
      "The recommended point [-3.07386665 12.58330389]\n",
      "Recommending the point takes 70.07097268104553 seconds\n",
      "Best so far 0.6604625568356064\n",
      "PES, 0th job, 38th iteration\n"
     ]
    },
    {
     "name": "stderr",
     "output_type": "stream",
     "text": [
      "reconstraining parameters GP_regression.rbf.lengthscale\n",
      "reconstraining parameters GP_regression.rbf.variance\n",
      "reconstraining parameters GP_regression.Gaussian_noise.variance\n"
     ]
    },
    {
     "name": "stdout",
     "output_type": "stream",
     "text": [
      "PES takes 183.62842774391174 seconds\n",
      "PES suggests: \n",
      "[-3.47404572 11.00675171]\n",
      "Retraining the model takes 156.96235418319702 seconds\n",
      "The recommended point [-3.07386665 12.58330389]\n",
      "Recommending the point takes 75.05896019935608 seconds\n",
      "Best so far 0.6604625568356064\n",
      "PES, 0th job, 39th iteration\n"
     ]
    },
    {
     "name": "stderr",
     "output_type": "stream",
     "text": [
      "reconstraining parameters GP_regression.rbf.lengthscale\n",
      "reconstraining parameters GP_regression.rbf.variance\n",
      "reconstraining parameters GP_regression.Gaussian_noise.variance\n"
     ]
    },
    {
     "name": "stdout",
     "output_type": "stream",
     "text": [
      "PES takes 188.7810468673706 seconds\n",
      "PES suggests: \n",
      "[-3.00427152 12.23770497]\n",
      "Retraining the model takes 153.07042288780212 seconds\n",
      "The recommended point [-3.00427152 12.23770497]\n",
      "Recommending the point takes 79.08336925506592 seconds\n",
      "Best so far 0.5699905229868153\n",
      "PES, 0th job, 40th iteration\n"
     ]
    },
    {
     "name": "stderr",
     "output_type": "stream",
     "text": [
      "reconstraining parameters GP_regression.rbf.lengthscale\n",
      "reconstraining parameters GP_regression.rbf.variance\n",
      "reconstraining parameters GP_regression.Gaussian_noise.variance\n"
     ]
    },
    {
     "name": "stdout",
     "output_type": "stream",
     "text": [
      "PES takes 191.73615884780884 seconds\n",
      "PES suggests: \n",
      "[-0.48496427 12.27109375]\n",
      "Retraining the model takes 160.876850605011 seconds\n",
      "The recommended point [-3.00427152 12.23770497]\n",
      "Recommending the point takes 81.9591875076294 seconds\n",
      "Best so far 0.5699905229868153\n",
      "PES, 0th job, 41th iteration\n"
     ]
    },
    {
     "name": "stderr",
     "output_type": "stream",
     "text": [
      "reconstraining parameters GP_regression.rbf.lengthscale\n",
      "reconstraining parameters GP_regression.rbf.variance\n",
      "reconstraining parameters GP_regression.Gaussian_noise.variance\n"
     ]
    },
    {
     "name": "stdout",
     "output_type": "stream",
     "text": [
      "PES takes 187.5446879863739 seconds\n",
      "PES suggests: \n",
      "[-0.21834995 13.13026919]\n",
      "Retraining the model takes 166.85225653648376 seconds\n",
      "The recommended point [-3.00427152 12.23770497]\n",
      "Recommending the point takes 84.03978872299194 seconds\n",
      "Best so far 0.5699905229868153\n",
      "PES, 0th job, 42th iteration\n"
     ]
    },
    {
     "name": "stderr",
     "output_type": "stream",
     "text": [
      "reconstraining parameters GP_regression.rbf.lengthscale\n",
      "reconstraining parameters GP_regression.rbf.variance\n",
      "reconstraining parameters GP_regression.Gaussian_noise.variance\n"
     ]
    },
    {
     "name": "stdout",
     "output_type": "stream",
     "text": [
      "PES takes 182.0363805294037 seconds\n",
      "PES suggests: \n",
      "[-0.72468839 10.70900395]\n",
      "Retraining the model takes 179.51808786392212 seconds\n",
      "The recommended point [-3.00427152 12.23770497]\n",
      "Recommending the point takes 86.4926655292511 seconds\n",
      "Best so far 0.5699905229868153\n",
      "PES, 0th job, 43th iteration\n"
     ]
    },
    {
     "name": "stderr",
     "output_type": "stream",
     "text": [
      "reconstraining parameters GP_regression.rbf.lengthscale\n",
      "reconstraining parameters GP_regression.rbf.variance\n",
      "reconstraining parameters GP_regression.Gaussian_noise.variance\n"
     ]
    },
    {
     "name": "stdout",
     "output_type": "stream",
     "text": [
      "PES takes 169.75426936149597 seconds\n",
      "PES suggests: \n",
      "[-2.34515366 14.40705745]\n",
      "Retraining the model takes 187.79014992713928 seconds\n",
      "The recommended point [-3.00427152 12.23770497]\n",
      "Recommending the point takes 88.70610928535461 seconds\n",
      "Best so far 0.5699905229868153\n",
      "PES, 0th job, 44th iteration\n"
     ]
    },
    {
     "name": "stderr",
     "output_type": "stream",
     "text": [
      "reconstraining parameters GP_regression.rbf.lengthscale\n",
      "reconstraining parameters GP_regression.rbf.variance\n",
      "reconstraining parameters GP_regression.Gaussian_noise.variance\n"
     ]
    },
    {
     "name": "stdout",
     "output_type": "stream",
     "text": [
      "PES takes 165.9721691608429 seconds\n",
      "PES suggests: \n",
      "[-4.22838315 12.82933264]\n",
      "Retraining the model takes 203.1896312236786 seconds\n",
      "The recommended point [-3.00427152 12.23770497]\n",
      "Recommending the point takes 84.1560411453247 seconds\n",
      "Best so far 0.5699905229868153\n",
      "PES, 0th job, 45th iteration\n"
     ]
    },
    {
     "name": "stderr",
     "output_type": "stream",
     "text": [
      "reconstraining parameters GP_regression.rbf.lengthscale\n",
      "reconstraining parameters GP_regression.rbf.variance\n",
      "reconstraining parameters GP_regression.Gaussian_noise.variance\n"
     ]
    },
    {
     "name": "stdout",
     "output_type": "stream",
     "text": [
      "PES takes 156.4437439441681 seconds\n",
      "PES suggests: \n",
      "[-3.85445055 10.54837766]\n",
      "Retraining the model takes 222.37908506393433 seconds\n",
      "The recommended point [-3.00427152 12.23770497]\n",
      "Recommending the point takes 76.73445224761963 seconds\n",
      "Best so far 0.5699905229868153\n",
      "PES, 0th job, 46th iteration\n"
     ]
    },
    {
     "name": "stderr",
     "output_type": "stream",
     "text": [
      "reconstraining parameters GP_regression.rbf.lengthscale\n",
      "reconstraining parameters GP_regression.rbf.variance\n",
      "reconstraining parameters GP_regression.Gaussian_noise.variance\n"
     ]
    },
    {
     "name": "stdout",
     "output_type": "stream",
     "text": [
      "PES takes 148.29740142822266 seconds\n",
      "PES suggests: \n",
      "[-4.96142648 11.49255482]\n",
      "Retraining the model takes 239.59404397010803 seconds\n",
      "The recommended point [-3.00427152 12.23770497]\n",
      "Recommending the point takes 64.51627135276794 seconds\n",
      "Best so far 0.5699905229868153\n",
      "PES, 0th job, 47th iteration\n"
     ]
    },
    {
     "name": "stderr",
     "output_type": "stream",
     "text": [
      "reconstraining parameters GP_regression.rbf.lengthscale\n",
      "reconstraining parameters GP_regression.rbf.variance\n",
      "reconstraining parameters GP_regression.Gaussian_noise.variance\n"
     ]
    },
    {
     "name": "stdout",
     "output_type": "stream",
     "text": [
      "PES takes 144.70893263816833 seconds\n",
      "PES suggests: \n",
      "[-2.1916074  12.29212002]\n",
      "Retraining the model takes 261.70983505249023 seconds\n",
      "The recommended point [-3.00427152 12.23770497]\n",
      "Recommending the point takes 45.8759970664978 seconds\n",
      "Best so far 0.5699905229868153\n",
      "PES, 0th job, 48th iteration\n"
     ]
    },
    {
     "name": "stderr",
     "output_type": "stream",
     "text": [
      "reconstraining parameters GP_regression.rbf.lengthscale\n",
      "reconstraining parameters GP_regression.rbf.variance\n",
      "reconstraining parameters GP_regression.Gaussian_noise.variance\n"
     ]
    },
    {
     "name": "stdout",
     "output_type": "stream",
     "text": [
      "PES takes 144.58246302604675 seconds\n",
      "PES suggests: \n",
      "[-1.46716188 14.77112998]\n",
      "Retraining the model takes 274.40679144859314 seconds\n",
      "The recommended point [-3.00427152 12.23770497]\n",
      "Recommending the point takes 34.57738280296326 seconds\n",
      "Best so far 0.5699905229868153\n",
      "PES, 0th job, 49th iteration\n"
     ]
    },
    {
     "name": "stderr",
     "output_type": "stream",
     "text": [
      "reconstraining parameters GP_regression.rbf.lengthscale\n",
      "reconstraining parameters GP_regression.rbf.variance\n",
      "reconstraining parameters GP_regression.Gaussian_noise.variance\n"
     ]
    },
    {
     "name": "stdout",
     "output_type": "stream",
     "text": [
      "PES takes 144.57065176963806 seconds\n",
      "PES suggests: \n",
      "[-2.32380069 13.18919879]\n",
      "Retraining the model takes 281.11480712890625 seconds\n",
      "The recommended point [-3.00427152 12.23770497]\n",
      "Recommending the point takes 30.19007420539856 seconds\n",
      "Best so far 0.5699905229868153\n",
      "PES, 0th job, 50th iteration\n"
     ]
    },
    {
     "name": "stderr",
     "output_type": "stream",
     "text": [
      "reconstraining parameters GP_regression.rbf.lengthscale\n",
      "reconstraining parameters GP_regression.rbf.variance\n",
      "reconstraining parameters GP_regression.Gaussian_noise.variance\n"
     ]
    },
    {
     "name": "stdout",
     "output_type": "stream",
     "text": [
      "PES takes 146.78771209716797 seconds\n",
      "PES suggests: \n",
      "[-1.31943287 11.8663677 ]\n",
      "Retraining the model takes 281.9695465564728 seconds\n",
      "The recommended point [-3.00427152 12.23770497]\n",
      "Recommending the point takes 30.842706441879272 seconds\n",
      "Best so far 0.5699905229868153\n",
      "PES, 0th job, 51th iteration\n"
     ]
    },
    {
     "name": "stderr",
     "output_type": "stream",
     "text": [
      "reconstraining parameters GP_regression.rbf.lengthscale\n",
      "reconstraining parameters GP_regression.rbf.variance\n",
      "reconstraining parameters GP_regression.Gaussian_noise.variance\n"
     ]
    },
    {
     "name": "stdout",
     "output_type": "stream",
     "text": [
      "PES takes 146.42482495307922 seconds\n",
      "PES suggests: \n",
      "[-3.96669674 11.88799493]\n",
      "Retraining the model takes 283.21310544013977 seconds\n",
      "The recommended point [-3.00427152 12.23770497]\n",
      "Recommending the point takes 31.374967098236084 seconds\n",
      "Best so far 0.5699905229868153\n",
      "PES, 0th job, 52th iteration\n"
     ]
    },
    {
     "name": "stderr",
     "output_type": "stream",
     "text": [
      "reconstraining parameters GP_regression.rbf.lengthscale\n",
      "reconstraining parameters GP_regression.rbf.variance\n",
      "reconstraining parameters GP_regression.Gaussian_noise.variance\n"
     ]
    },
    {
     "name": "stdout",
     "output_type": "stream",
     "text": [
      "PES takes 147.475355386734 seconds\n",
      "PES suggests: \n",
      "[-2.47649118 12.10574061]\n",
      "Retraining the model takes 283.5693395137787 seconds\n",
      "The recommended point [-3.00427152 12.23770497]\n",
      "Recommending the point takes 31.77318835258484 seconds\n",
      "Best so far 0.5699905229868153\n",
      "PES, 0th job, 53th iteration\n"
     ]
    },
    {
     "name": "stderr",
     "output_type": "stream",
     "text": [
      "reconstraining parameters GP_regression.rbf.lengthscale\n",
      "reconstraining parameters GP_regression.rbf.variance\n",
      "reconstraining parameters GP_regression.Gaussian_noise.variance\n"
     ]
    },
    {
     "name": "stdout",
     "output_type": "stream",
     "text": [
      "PES takes 145.31535696983337 seconds\n",
      "PES suggests: \n",
      "[-1.36949072 11.03135171]\n",
      "Retraining the model takes 285.1502914428711 seconds\n",
      "The recommended point [-3.00427152 12.23770497]\n",
      "Recommending the point takes 32.18164324760437 seconds\n",
      "Best so far 0.5699905229868153\n",
      "PES, 0th job, 54th iteration\n"
     ]
    },
    {
     "name": "stderr",
     "output_type": "stream",
     "text": [
      "reconstraining parameters GP_regression.rbf.lengthscale\n",
      "reconstraining parameters GP_regression.rbf.variance\n",
      "reconstraining parameters GP_regression.Gaussian_noise.variance\n"
     ]
    },
    {
     "name": "stdout",
     "output_type": "stream",
     "text": [
      "PES takes 145.39238739013672 seconds\n",
      "PES suggests: \n",
      "[-1.6032634  11.87960928]\n",
      "Retraining the model takes 285.07037329673767 seconds\n",
      "The recommended point [-3.00427152 12.23770497]\n",
      "Recommending the point takes 32.585944175720215 seconds\n",
      "Best so far 0.5699905229868153\n",
      "PES, 0th job, 55th iteration\n"
     ]
    },
    {
     "name": "stderr",
     "output_type": "stream",
     "text": [
      "reconstraining parameters GP_regression.rbf.lengthscale\n",
      "reconstraining parameters GP_regression.rbf.variance\n",
      "reconstraining parameters GP_regression.Gaussian_noise.variance\n"
     ]
    },
    {
     "name": "stdout",
     "output_type": "stream",
     "text": [
      "PES takes 145.00991249084473 seconds\n",
      "PES suggests: \n",
      "[-1.53457513 10.09635044]\n",
      "Retraining the model takes 287.32095646858215 seconds\n",
      "The recommended point [-3.00427152 12.23770497]\n",
      "Recommending the point takes 33.56349563598633 seconds\n",
      "Best so far 0.5699905229868153\n",
      "PES, 0th job, 56th iteration\n"
     ]
    },
    {
     "name": "stderr",
     "output_type": "stream",
     "text": [
      "reconstraining parameters GP_regression.rbf.lengthscale\n",
      "reconstraining parameters GP_regression.rbf.variance\n",
      "reconstraining parameters GP_regression.Gaussian_noise.variance\n"
     ]
    },
    {
     "name": "stdout",
     "output_type": "stream",
     "text": [
      "PES takes 143.4008548259735 seconds\n",
      "PES suggests: \n",
      "[-0.26658729 12.42384089]\n",
      "Retraining the model takes 288.11873722076416 seconds\n",
      "The recommended point [-3.00427152 12.23770497]\n",
      "Recommending the point takes 33.764288663864136 seconds\n",
      "Best so far 0.5699905229868153\n",
      "PES, 0th job, 57th iteration\n"
     ]
    },
    {
     "name": "stderr",
     "output_type": "stream",
     "text": [
      "reconstraining parameters GP_regression.rbf.lengthscale\n",
      "reconstraining parameters GP_regression.rbf.variance\n",
      "reconstraining parameters GP_regression.Gaussian_noise.variance\n"
     ]
    },
    {
     "name": "stdout",
     "output_type": "stream",
     "text": [
      "PES takes 148.34668684005737 seconds\n",
      "PES suggests: \n",
      "[-3.94491146 12.78477216]\n",
      "Retraining the model takes 284.24057626724243 seconds\n",
      "The recommended point [-3.00427152 12.23770497]\n",
      "Recommending the point takes 35.275314807891846 seconds\n",
      "Best so far 0.5699905229868153\n",
      "PES, 0th job, 58th iteration\n"
     ]
    },
    {
     "name": "stderr",
     "output_type": "stream",
     "text": [
      "reconstraining parameters GP_regression.rbf.lengthscale\n",
      "reconstraining parameters GP_regression.rbf.variance\n",
      "reconstraining parameters GP_regression.Gaussian_noise.variance\n"
     ]
    },
    {
     "name": "stdout",
     "output_type": "stream",
     "text": [
      "PES takes 162.23985767364502 seconds\n",
      "PES suggests: \n",
      "[-2.45941067 10.60740315]\n",
      "Retraining the model takes 280.7993731498718 seconds\n",
      "The recommended point [-3.00427152 12.23770497]\n",
      "Recommending the point takes 37.28487777709961 seconds\n",
      "Best so far 0.5699905229868153\n",
      "PES, 0th job, 59th iteration\n"
     ]
    },
    {
     "name": "stderr",
     "output_type": "stream",
     "text": [
      "reconstraining parameters GP_regression.rbf.lengthscale\n",
      "reconstraining parameters GP_regression.rbf.variance\n",
      "reconstraining parameters GP_regression.Gaussian_noise.variance\n"
     ]
    },
    {
     "name": "stdout",
     "output_type": "stream",
     "text": [
      "PES takes 177.75769662857056 seconds\n",
      "PES suggests: \n",
      "[-0.52478883 14.91977164]\n",
      "Retraining the model takes 253.36389231681824 seconds\n",
      "The recommended point [-3.00427152 12.23770497]\n",
      "Recommending the point takes 36.15986514091492 seconds\n",
      "Best so far 0.5699905229868153\n"
     ]
    }
   ],
   "source": [
    "import os\n",
    "import numpy as np\n",
    "import numpy.random as npr\n",
    "from PES.main import *\n",
    "\n",
    "#The benchmark function.\n",
    "# It has three minima with f(x*) = 0.397887 at x* = (-pi, 12.275), (+pi, 2.275), and (9.42478, 2.475).\n",
    "# Here we add a standard gaussian noise with 0.02 scale to the function. \n",
    "# The input bounds are -5 <= x1 <= 10 and 0 <= x2 <= 15\n",
    "from skopt.benchmarks import branin\n",
    "\n",
    "def bench(x, noise_level=0.01):\n",
    "    return branin(x) + noise_level * np.random.randn()\n",
    "\n",
    "#Specify the parameters for running PES\n",
    "x_minimum = np.asarray([-5.0,10.0])\n",
    "x_maximum = np.asarray([0.0,15.0])\n",
    "dimension = 2\n",
    "\n",
    "#The function to run PES to minimize the target function.\n",
    "run_PES(bench, x_minimum, x_maximum, dimension, number_of_hyperparameter_sets = 100, number_of_burnin = 50, \\\n",
    "        sampling_method = 'mcmc', number_of_initial_points = 5, number_of_experiments = 1, number_of_iterations = 60, \\\n",
    "        number_of_features = 1000, optimization_method = 'SLSQP', seed = 10)"
   ]
  },
  {
   "cell_type": "code",
   "execution_count": 5,
   "metadata": {},
   "outputs": [],
   "source": [
    "plot_pes_x1 = np.array([[-2.63364823,11.25119612],[-2.63364823,11.25119612],[-2.63364823,11.25119612],\n",
    "                      [-2.63364823, 11.25119612],[-2.63364823,11.25119612],[-3.07386665,12.58330389],\n",
    "                      [-3.07386665,12.58330389],[-3.07386665,12.58330389],[-3.00427152,12.23770497],\n",
    "                      [-3.00427152,12.23770497],[-3.00427152,12.23770497],[-3.00427152,12.23770497],\n",
    "                      [-3.00427152,12.23770497],[-3.00427152,12.23770497],[-3.00427152,12.23770497],\n",
    "                      [-3.00427152,12.23770497]])\n",
    "plot_pes_y1= np.array([1.643029586787631,1.643029586787631,1.643029586787631,1.643029586787631,\n",
    "                      1.643029586787631,0.6604625568356064,0.6604625568356064,0.6604625568356064,0.5699905229868153,\n",
    "                      0.5699905229868153,0.5699905229868153,0.5699905229868153,0.5699905229868153,\n",
    "                      0.5699905229868153,0.5699905229868153,0.5699905229868153])"
   ]
  },
  {
   "cell_type": "code",
   "execution_count": 7,
   "metadata": {},
   "outputs": [
    {
     "data": {
      "text/plain": [
       "(16,)"
      ]
     },
     "execution_count": 7,
     "metadata": {},
     "output_type": "execute_result"
    }
   ],
   "source": []
  },
  {
   "cell_type": "code",
   "execution_count": null,
   "metadata": {},
   "outputs": [],
   "source": []
  }
 ],
 "metadata": {
  "kernelspec": {
   "display_name": "Python 3",
   "language": "python",
   "name": "python3"
  },
  "language_info": {
   "codemirror_mode": {
    "name": "ipython",
    "version": 3
   },
   "file_extension": ".py",
   "mimetype": "text/x-python",
   "name": "python",
   "nbconvert_exporter": "python",
   "pygments_lexer": "ipython3",
   "version": "3.7.4"
  }
 },
 "nbformat": 4,
 "nbformat_minor": 2
}
